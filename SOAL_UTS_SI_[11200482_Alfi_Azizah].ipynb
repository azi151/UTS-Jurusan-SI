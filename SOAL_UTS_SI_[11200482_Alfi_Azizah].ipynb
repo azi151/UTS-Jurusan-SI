{
  "nbformat": 4,
  "nbformat_minor": 0,
  "metadata": {
    "colab": {
      "name": "SOAL_UTS_SI_[11200482_Alfi_Azizah].ipynb",
      "provenance": [],
      "collapsed_sections": []
    },
    "kernelspec": {
      "name": "python3",
      "display_name": "Python 3"
    },
    "language_info": {
      "name": "python"
    }
  },
  "cells": [
    {
      "cell_type": "markdown",
      "metadata": {
        "id": "207NNMC_vMNX"
      },
      "source": [
        "## Soal UTS I\n",
        "Buatlah Program dengan bahasa python untuk menampilkan nama dan NIM anda pada halaman notebook ini"
      ]
    },
    {
      "cell_type": "code",
      "metadata": {
        "id": "ayXUPo6SvaqJ",
        "colab": {
          "base_uri": "https://localhost:8080/"
        },
        "outputId": "2ece4b5f-3fef-470f-b010-62e465a60b11"
      },
      "source": [
        "#Jawab\n",
        "def cetak(a,b):\n",
        "  print (\"Nama\" , a)\n",
        "  print (\"NIM\", b)\n",
        "\n",
        "cetak(\"Alfi Azizah\", \"11200482\")"
      ],
      "execution_count": null,
      "outputs": [
        {
          "output_type": "stream",
          "name": "stdout",
          "text": [
            "Nama Alfi Azizah\n",
            "NIM 11200482\n"
          ]
        }
      ]
    },
    {
      "cell_type": "markdown",
      "metadata": {
        "id": "txgZNIDhuEvS"
      },
      "source": [
        "## Soal UTS II\n",
        "\n",
        "\n",
        "Kerjakan salah satu dari dua soal berikut (Soal A atau B) sesuai dengan digit terakhir NIM anda.\n",
        "\n",
        "Jika Digit terakhir NIM anda adalah ganjil atau nol(0) kerjakanlan Soal A berikut ini\n",
        "\n",
        "**Soal A**\n",
        "\n",
        "Bualah aplikasi interaktif dengan pemrograman Python yang menerima input variable dari keyboard untuk mencari luas bangun datar lingkaran.\n",
        "\n",
        "Dengan tampilan sebagai berikut:\n",
        "```\n",
        "Masukan Diameter : \n",
        "Luas Lingkaran   :\n",
        "```\n",
        "Jika Digit terakhir NIM anda adalah genap kerjakanlan Soal B berikut ini \n",
        "\n",
        "**Soal B**\n",
        "\n",
        "Bualah aplikasi interaktif dengan pemrograman Python yang menerima input variable dari keyboard untuk mencari keliling bangun datar lingkaran.\n",
        "\n",
        "Dengan tampilan sebagai berikut:\n",
        "```\n",
        "Masukan Diameter : \n",
        "Keliling Lingkaran   :\n",
        "```"
      ]
    },
    {
      "cell_type": "markdown",
      "metadata": {
        "id": "L5pweWJ4vHe7"
      },
      "source": [
        ""
      ]
    },
    {
      "cell_type": "code",
      "metadata": {
        "id": "mJ2YcXznurKe",
        "colab": {
          "base_uri": "https://localhost:8080/"
        },
        "outputId": "fa690851-eaf4-4f6a-b240-692734194cbe"
      },
      "source": [
        "#Jawab\n",
        "#Soal B\n",
        "print(\"Diameter : 70\")\n",
        "def keliling_lingkaran(phi,d):\n",
        "  keliling = phi * d\n",
        "  return keliling\n",
        "\n",
        "print(\"Keliling Lingkaran : %d\" % keliling_lingkaran(22/7,70))"
      ],
      "execution_count": null,
      "outputs": [
        {
          "output_type": "stream",
          "name": "stdout",
          "text": [
            "Diameter : 70\n",
            "Keliling Lingkaran : 220\n"
          ]
        }
      ]
    }
  ]
}